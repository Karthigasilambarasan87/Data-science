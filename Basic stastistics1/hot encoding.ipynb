{
 "cells": [
  {
   "cell_type": "code",
   "execution_count": 31,
   "id": "ca864de3-8edc-4277-8d05-236830d5349d",
   "metadata": {
    "scrolled": true
   },
   "outputs": [
    {
     "name": "stdout",
     "output_type": "stream",
     "text": [
      "           Date       Day  SKU City         BU  Brand       Model\n",
      "0    01-04-2021  Thursday  M01    C    Mobiles  RealU       RU-10\n",
      "1    01-04-2021  Thursday  M02    C    Mobiles  RealU   RU-9 Plus\n",
      "2    01-04-2021  Thursday  M03    C    Mobiles   YouM       YM-99\n",
      "3    01-04-2021  Thursday  M04    C    Mobiles   YouM  YM-99 Plus\n",
      "4    01-04-2021  Thursday  M05    C    Mobiles   YouM      YM-98 \n",
      "..          ...       ...  ...  ...        ...    ...         ...\n",
      "445  15-04-2021  Thursday  L06    C  Lifestyle  Jeera   M-Casuals\n",
      "446  15-04-2021  Thursday  L07    C  Lifestyle   Viva   W-Western\n",
      "447  15-04-2021  Thursday  L08    C  Lifestyle   Viva    W-Lounge\n",
      "448  15-04-2021  Thursday  L09    C  Lifestyle  Jeera   M-Formals\n",
      "449  15-04-2021  Thursday  L10    C  Lifestyle  Jeera     M-Shoes\n",
      "\n",
      "[450 rows x 7 columns]\n",
      "      FMCG  Lifestyle  Mobiles\n",
      "0    False      False     True\n",
      "1    False      False     True\n",
      "2    False      False     True\n",
      "3    False      False     True\n",
      "4    False      False     True\n",
      "..     ...        ...      ...\n",
      "445  False       True    False\n",
      "446  False       True    False\n",
      "447  False       True    False\n",
      "448  False       True    False\n",
      "449  False       True    False\n",
      "\n",
      "[450 rows x 3 columns]\n"
     ]
    }
   ],
   "source": [
    "import pandas as pd\n",
    "import numpy as np\n",
    "#Load data from csv file\n",
    "sales_data=pd.read_csv(\"Desktop/sales_data_with_discounts.csv\")\n",
    "#Select categorical datq\n",
    "sales_category=sales_data.select_dtypes(object)\n",
    "print(sales_category)\n",
    "#hot encoding\n",
    "dummy=pd.get_dummies(sales_category[\"BU\"])\n",
    "print(dummy)"
   ]
  },
  {
   "cell_type": "code",
   "execution_count": null,
   "id": "62024745-5a65-4e56-a4d2-f239e7ca7f23",
   "metadata": {},
   "outputs": [],
   "source": []
  }
 ],
 "metadata": {
  "kernelspec": {
   "display_name": "Python 3 (ipykernel)",
   "language": "python",
   "name": "python3"
  },
  "language_info": {
   "codemirror_mode": {
    "name": "ipython",
    "version": 3
   },
   "file_extension": ".py",
   "mimetype": "text/x-python",
   "name": "python",
   "nbconvert_exporter": "python",
   "pygments_lexer": "ipython3",
   "version": "3.12.4"
  }
 },
 "nbformat": 4,
 "nbformat_minor": 5
}
