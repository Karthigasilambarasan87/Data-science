{
 "cells": [
  {
   "cell_type": "code",
   "execution_count": 114,
   "id": "2367bbed-a197-4729-a501-ff96c85e2b69",
   "metadata": {},
   "outputs": [
    {
     "name": "stdout",
     "output_type": "stream",
     "text": [
      "Mean Avg Price    10453.433333\n",
      "dtype: float64\n",
      "standard Avg Price    18079.90484\n",
      "dtype: float64\n",
      "Avg Price    2.745953\n",
      "dtype: float64\n",
      "Your Z score for Average price\n",
      "     Avg Price   z_score\n",
      "0        12100  0.091072\n",
      "1        10100 -0.019548\n",
      "2        16100  0.312312\n",
      "3        20100  0.533552\n",
      "4         8100 -0.130168\n",
      "..         ...       ...\n",
      "445       1300 -0.506277\n",
      "446       2600 -0.434374\n",
      "447       1600 -0.489684\n",
      "448       1900 -0.473091\n",
      "449       3100 -0.406719\n",
      "\n",
      "[450 rows x 2 columns]\n",
      "Empty DataFrame\n",
      "Columns: [Avg Price, z_score]\n",
      "Index: []\n"
     ]
    }
   ],
   "source": [
    "#Z-score - It show how many standard deviation away from data point.By using this we find the outliers and remove it\n",
    "#formula Z-score= (x-mean)/std\n",
    "import pandas as pd\n",
    "import numpy as np\n",
    "sales_data=pd.read_csv(\"Desktop/sales_data_with_discounts.csv\")\n",
    "sales_data_specifycol=pd.read_csv(\"Desktop/sales_data_with_discounts.csv\",usecols=[\"Avg Price\", \"Total Sales Value\", \"Discount Rate (%)\",\n",
    "       \"Discount Amount\", \"Net Sales Value\"]) \n",
    "avg=pd.read_csv(\"Desktop/sales_data_with_discounts.csv\",usecols=[\"Avg Price\"])  \n",
    "#check for one value\n",
    "avera=avg.mean()\n",
    "stand=avg.std()\n",
    "print(\"Mean\",avera)\n",
    "print(\"standard\",stand)\n",
    "a=(60100-avera)/stand\n",
    "print(a)\n",
    "#Z score for Avg price\n",
    "avg[\"z_score\"]=(avg[\"Avg Price\"]-avg[\"Avg Price\"].mean())/(avg[\"Avg Price\"].std())\n",
    "print(\"Your Z score for Average price\")\n",
    "print(avg)\n",
    "#find outliers\n",
    "out=avg[(avg[\"z_score\"]<-3)|(avg[\"z_score\"]>3)]\n",
    "print(out)\n"
   ]
  },
  {
   "cell_type": "code",
   "execution_count": 132,
   "id": "a65446a2-f333-4e70-a2bc-59d9ddc17348",
   "metadata": {},
   "outputs": [
    {
     "name": "stdout",
     "output_type": "stream",
     "text": [
      "Your Z score for total sale value\n",
      "     Total Sales Value   z_score\n",
      "0               181500  2.922469\n",
      "1               101000  1.329516\n",
      "2               112700  1.561038\n",
      "3               120600  1.717365\n",
      "4                24300 -0.188242\n",
      "..                 ...       ...\n",
      "445               2600 -0.617647\n",
      "446              15600 -0.360400\n",
      "447               3200 -0.605774\n",
      "448               5700 -0.556303\n",
      "449               3100 -0.607753\n",
      "\n",
      "[450 rows x 2 columns]\n",
      "Total value outliers are:\n",
      "    Total Sales Value   z_score\n",
      "66             196400  3.217313\n"
     ]
    }
   ],
   "source": [
    "import pandas as pd\n",
    "import numpy as np\n",
    "sales_data=pd.read_csv(\"Desktop/sales_data_with_discounts.csv\")\n",
    "sales_data_specifycol=pd.read_csv(\"Desktop/sales_data_with_discounts.csv\",usecols=[\"Avg Price\", \"Total Sales Value\", \"Discount Rate (%)\",\n",
    "       \"Discount Amount\", \"Net Sales Value\"]) \n",
    "total=pd.read_csv(\"Desktop/sales_data_with_discounts.csv\",usecols=[\"Total Sales Value\"])  \n",
    "#Z score for Total sale value\n",
    "total[\"z_score\"]=(total[\"Total Sales Value\"]-total[\"Total Sales Value\"].mean())/(total[\"Total Sales Value\"].std())\n",
    "print(\"Your Z score for total sale value\")\n",
    "print(total)\n",
    "#find outliers\n",
    "total_out=total[(total[\"z_score\"]<-3)|(total[\"z_score\"]>3)]\n",
    "print(\"Total value outliers are:\")\n",
    "print(total_out)"
   ]
  },
  {
   "cell_type": "code",
   "execution_count": 126,
   "id": "d182a3d2-2ff1-4d43-86d3-ddd3d92c993d",
   "metadata": {},
   "outputs": [
    {
     "name": "stdout",
     "output_type": "stream",
     "text": [
      "Your Z score for total sale value\n",
      "     Discount Rate (%)   z_score\n",
      "0            11.654820 -0.829365\n",
      "1            11.560498 -0.851714\n",
      "2             9.456886 -1.350129\n",
      "3             6.935385 -1.947555\n",
      "4            17.995663  0.672990\n",
      "..                 ...       ...\n",
      "445          15.475687  0.075924\n",
      "446          17.057027  0.450596\n",
      "447          18.965550  0.902788\n",
      "448          16.793014  0.388042\n",
      "449          15.333300  0.042188\n",
      "\n",
      "[450 rows x 2 columns]\n",
      "Empty DataFrame\n",
      "Columns: [Discount Rate (%), z_score]\n",
      "Index: []\n"
     ]
    }
   ],
   "source": [
    "import pandas as pd\n",
    "import numpy as np\n",
    "sales_data=pd.read_csv(\"Desktop/sales_data_with_discounts.csv\")\n",
    "sales_data_specifycol=pd.read_csv(\"Desktop/sales_data_with_discounts.csv\",usecols=[\"Avg Price\", \"Total Sales Value\", \"Discount Rate (%)\",\n",
    "       \"Discount Amount\", \"Net Sales Value\"]) \n",
    "discount=pd.read_csv(\"Desktop/sales_data_with_discounts.csv\",usecols=[\"Discount Rate (%)\"])  \n",
    "#Z score for Discount\n",
    "discount[\"z_score\"]=(discount[\"Discount Rate (%)\"]-discount[\"Discount Rate (%)\"].mean())/(discount[\"Discount Rate (%)\"].std())\n",
    "print(\"Your Z score for total sale value\")\n",
    "print(discount)\n",
    "#find outliers\n",
    "discount_out=discount[(discount[\"z_score\"]<-3)|(discount[\"z_score\"]>3)]\n",
    "print(discount_out)"
   ]
  },
  {
   "cell_type": "code",
   "execution_count": 134,
   "id": "45bdb4e9-ac28-44f1-9564-87c65c58f2e5",
   "metadata": {},
   "outputs": [
    {
     "name": "stdout",
     "output_type": "stream",
     "text": [
      "Your Z score for Discount Amount\n",
      "     Discount Amount   z_score\n",
      "0       21153.498820  3.948422\n",
      "1       11676.102961  1.846958\n",
      "2       10657.910157  1.621190\n",
      "3        8364.074702  1.112568\n",
      "4        4372.946230  0.227598\n",
      "..               ...       ...\n",
      "445       402.367873 -0.652815\n",
      "446      2660.896242 -0.152022\n",
      "447       606.897606 -0.607464\n",
      "448       957.201826 -0.529789\n",
      "449       475.332295 -0.636636\n",
      "\n",
      "[450 rows x 2 columns]\n",
      "Discount Amount Outliers are\n",
      "     Discount Amount   z_score\n",
      "0       21153.498820  3.948422\n",
      "9       17900.983733  3.227228\n",
      "30      17445.603828  3.126254\n",
      "66      16892.520951  3.003617\n",
      "180     17178.331859  3.066991\n",
      "189     17696.813621  3.181956\n",
      "210     25328.224204  4.874101\n",
      "240     25738.022194  4.964968\n",
      "300     21496.675367  4.024516\n"
     ]
    }
   ],
   "source": [
    "import pandas as pd\n",
    "import numpy as np\n",
    "sales_data=pd.read_csv(\"Desktop/sales_data_with_discounts.csv\")\n",
    "sales_data_specifycol=pd.read_csv(\"Desktop/sales_data_with_discounts.csv\",usecols=[\"Avg Price\", \"Total Sales Value\", \"Discount Rate (%)\",\n",
    "       \"Discount Amount\", \"Net Sales Value\"]) \n",
    "amount=pd.read_csv(\"Desktop/sales_data_with_discounts.csv\",usecols=[\"Discount Amount\"])  \n",
    "#Z score for Discount Amount\n",
    "amount[\"z_score\"]=(amount[\"Discount Amount\"]-amount[\"Discount Amount\"].mean())/(amount[\"Discount Amount\"].std())\n",
    "print(\"Your Z score for Discount Amount\")\n",
    "print(amount)\n",
    "#find outliers\n",
    "amount_out=amount[(amount[\"z_score\"]<-3)|(amount[\"z_score\"]>3)]\n",
    "print(\"Discount Amount Outliers are\")\n",
    "print(amount_out)"
   ]
  },
  {
   "cell_type": "code",
   "execution_count": 136,
   "id": "b2004c2e-a5db-4869-8a1b-e0cd6aec7753",
   "metadata": {},
   "outputs": [
    {
     "name": "stdout",
     "output_type": "stream",
     "text": [
      "Your Z score for Discount Amount\n",
      "     Net Sales Value   z_score\n",
      "0      160346.501180  2.801638\n",
      "1       89323.897039  1.269613\n",
      "2      102042.089843  1.543957\n",
      "3      112235.925298  1.763847\n",
      "4       19927.053770 -0.227342\n",
      "..               ...       ...\n",
      "445      2197.632127 -0.609783\n",
      "446     12939.103758 -0.378079\n",
      "447      2593.102394 -0.601252\n",
      "448      4742.798174 -0.554881\n",
      "449      2624.667705 -0.600571\n",
      "\n",
      "[450 rows x 2 columns]\n",
      "Net Value Outliers are\n",
      "    Net Sales Value   z_score\n",
      "66    179507.479049  3.214958\n"
     ]
    }
   ],
   "source": [
    "import pandas as pd\n",
    "import numpy as np\n",
    "sales_data=pd.read_csv(\"Desktop/sales_data_with_discounts.csv\")\n",
    "sales_data_specifycol=pd.read_csv(\"Desktop/sales_data_with_discounts.csv\",usecols=[\"Avg Price\", \"Total Sales Value\", \"Discount Rate (%)\",\n",
    "       \"Discount Amount\", \"Net Sales Value\"]) \n",
    "net=pd.read_csv(\"Desktop/sales_data_with_discounts.csv\",usecols=[\"Net Sales Value\"])  \n",
    "#Z score for Discount Amount\n",
    "net[\"z_score\"]=(net[\"Net Sales Value\"]-net[\"Net Sales Value\"].mean())/(net[\"Net Sales Value\"].std())\n",
    "print(\"Your Z score for Discount Amount\")\n",
    "print(net)\n",
    "#find outliers\n",
    "net_out=net[(net[\"z_score\"]<-3)|(net[\"z_score\"]>3)]\n",
    "print(\"Net Value Outliers are\")\n",
    "print(net_out)"
   ]
  },
  {
   "cell_type": "code",
   "execution_count": null,
   "id": "05e12858-acdb-4f15-bb5f-daa7349f7882",
   "metadata": {},
   "outputs": [],
   "source": []
  }
 ],
 "metadata": {
  "kernelspec": {
   "display_name": "Python 3 (ipykernel)",
   "language": "python",
   "name": "python3"
  },
  "language_info": {
   "codemirror_mode": {
    "name": "ipython",
    "version": 3
   },
   "file_extension": ".py",
   "mimetype": "text/x-python",
   "name": "python",
   "nbconvert_exporter": "python",
   "pygments_lexer": "ipython3",
   "version": "3.12.4"
  }
 },
 "nbformat": 4,
 "nbformat_minor": 5
}
