{
 "cells": [
  {
   "cell_type": "code",
   "execution_count": 17,
   "id": "5702d841-9787-47d0-966b-c0a613242e86",
   "metadata": {},
   "outputs": [
    {
     "name": "stdin",
     "output_type": "stream",
     "text": [
      "Enter the number to find prime number 20\n"
     ]
    },
    {
     "name": "stdout",
     "output_type": "stream",
     "text": [
      "20 is not prime number\n"
     ]
    }
   ],
   "source": [
    "#Find prime number\n",
    "prime_number=int(input(\"Enter the number to find prime number\"))\n",
    "flag=False\n",
    "if prime_number==0 or prime_number==1:\n",
    "    print(prime_number,\"is not prime number\")\n",
    "elif prime_number>1:\n",
    "    for i in range(2,prime_number):\n",
    "        if prime_number%i==0:\n",
    "            flag=True\n",
    "            break\n",
    "    if flag:\n",
    "        print(prime_number,\"is not prime number\")\n",
    "    else:\n",
    "        print(prime_number,\"is prime number\")\n",
    "      "
   ]
  },
  {
   "cell_type": "code",
   "execution_count": 37,
   "id": "d50f353f-305c-4a28-a22b-60114ea72e16",
   "metadata": {},
   "outputs": [
    {
     "name": "stdout",
     "output_type": "stream",
     "text": [
      "Find the product between two numbers 99 and 77\n",
      "calculate and give the ouput "
     ]
    },
    {
     "name": "stdin",
     "output_type": "stream",
     "text": [
      " 5654\n"
     ]
    },
    {
     "name": "stdout",
     "output_type": "stream",
     "text": [
      "your output is wrong.\n",
      "The correct answer is:  7623\n"
     ]
    }
   ],
   "source": [
    "#Product of two random numbers\n",
    "import random\n",
    "ran_num1=random.randint(1,100)\n",
    "ran_num2=random.randint(1,100)\n",
    "prod=ran_num1*ran_num2\n",
    "print(\"Find the product between two numbers {} and {}\".format(ran_num1,ran_num2))\n",
    "print(\"calculate and give the ouput\",end=\" \")\n",
    "res=int(input())\n",
    "if prod==res:\n",
    "    print(\"Your output is correct\")\n",
    "else:\n",
    "    print(\"your output is wrong.\")\n",
    "    print(\"The correct answer is: \",prod)\n"
   ]
  },
  {
   "cell_type": "code",
   "execution_count": 49,
   "id": "4fc58815-e24a-40e3-8e98-85b097ecd105",
   "metadata": {},
   "outputs": [
    {
     "name": "stdout",
     "output_type": "stream",
     "text": [
      "Even numbers are: [100, 102, 104, 106, 108, 110, 112, 114, 116, 118, 120, 122, 124, 126, 128, 130, 132, 134, 136, 138, 140, 142, 144, 146, 148, 150, 152, 154, 156, 158, 160, 162, 164, 166, 168, 170, 172, 174, 176, 178, 180, 182, 184, 186, 188, 190, 192, 194, 196, 198, 200] \n",
      "\n",
      "odd numbers are: [101, 103, 105, 107, 109, 111, 113, 115, 117, 119, 121, 123, 125, 127, 129, 131, 133, 135, 137, 139, 141, 143, 145, 147, 149, 151, 153, 155, 157, 159, 161, 163, 165, 167, 169, 171, 173, 175, 177, 179, 181, 183, 185, 187, 189, 191, 193, 195, 197, 199] \n",
      "\n",
      "Square of even numbers are: [10000, 10404, 10816, 11236, 11664, 12100, 12544, 12996, 13456, 13924, 14400, 14884, 15376, 15876, 16384, 16900, 17424, 17956, 18496, 19044, 19600, 20164, 20736, 21316, 21904, 22500, 23104, 23716, 24336, 24964, 25600, 26244, 26896, 27556, 28224, 28900, 29584, 30276, 30976, 31684, 32400, 33124, 33856, 34596, 35344, 36100, 36864, 37636, 38416, 39204, 40000]\n"
     ]
    }
   ],
   "source": [
    "#square the even or odd\n",
    "num=list(range(100,201))\n",
    "even=[]\n",
    "odd=[]\n",
    "square=[]\n",
    "for i in num:\n",
    "    if i%2==0:\n",
    "        even.append(i)\n",
    "        square.append(i**2)\n",
    "    else:\n",
    "        odd.append(i)\n",
    "print(\"Even numbers are:\",even,\"\\n\")\n",
    "print(\"odd numbers are:\",odd,\"\\n\")\n",
    "print(\"Square of even numbers are:\",square)     "
   ]
  },
  {
   "cell_type": "code",
   "execution_count": 69,
   "id": "b1b6ec96-a478-4532-bc6b-5bd7ba005733",
   "metadata": {},
   "outputs": [
    {
     "name": "stdout",
     "output_type": "stream",
     "text": [
      "['Earth', 'is', 'the', 'third', 'planet', 'from', 'the', 'Sun', 'and', 'the', 'fifth', 'largest', 'planet', 'in', 'the', 'solar', 'system', 'in', 'terms', 'of', 'size', 'and', 'mass.']\n",
      "Earth : 1 \n",
      "\n",
      "is : 1 \n",
      "\n",
      "the : 4 \n",
      "\n",
      "third : 1 \n",
      "\n",
      "planet : 2 \n",
      "\n",
      "from : 1 \n",
      "\n",
      "the : 4 \n",
      "\n",
      "Sun : 1 \n",
      "\n",
      "and : 2 \n",
      "\n",
      "the : 4 \n",
      "\n",
      "fifth : 1 \n",
      "\n",
      "largest : 1 \n",
      "\n",
      "planet : 2 \n",
      "\n",
      "in : 2 \n",
      "\n",
      "the : 4 \n",
      "\n",
      "solar : 1 \n",
      "\n",
      "system : 1 \n",
      "\n",
      "in : 2 \n",
      "\n",
      "terms : 1 \n",
      "\n",
      "of : 1 \n",
      "\n",
      "size : 1 \n",
      "\n",
      "and : 2 \n",
      "\n",
      "mass. : 1 \n",
      "\n"
     ]
    }
   ],
   "source": [
    "#count the each word in a sentences\n",
    "sen=\"Earth is the third planet from the Sun and the fifth largest planet in the solar system in terms of size and mass.\"\n",
    "word=list(sen.split())\n",
    "print(word)\n",
    "for i in word:\n",
    "    l=word.count(i)\n",
    "    print(i,\":\",l,\"\\n\")\n",
    "    "
   ]
  },
  {
   "cell_type": "code",
   "execution_count": 81,
   "id": "03f4619a-0c6f-4ac0-a1b5-1375d7009511",
   "metadata": {},
   "outputs": [
    {
     "name": "stdin",
     "output_type": "stream",
     "text": [
      "Enter a string harini\n"
     ]
    },
    {
     "name": "stdout",
     "output_type": "stream",
     "text": [
      "harini is not a palindrome\n"
     ]
    }
   ],
   "source": [
    "#check palindrome\n",
    "str=input(\"Enter a string\")\n",
    "reverse=\"\".join(reversed(str))\n",
    "if str==reverse:\n",
    "    print(str,\"is a palindrome\")\n",
    "else:\n",
    "    print(str,\"is not a palindrome\")\n"
   ]
  },
  {
   "cell_type": "code",
   "execution_count": null,
   "id": "c84cdfba-2d6e-4161-85dd-a1aa15874908",
   "metadata": {},
   "outputs": [],
   "source": []
  }
 ],
 "metadata": {
  "kernelspec": {
   "display_name": "Python 3 (ipykernel)",
   "language": "python",
   "name": "python3"
  },
  "language_info": {
   "codemirror_mode": {
    "name": "ipython",
    "version": 3
   },
   "file_extension": ".py",
   "mimetype": "text/x-python",
   "name": "python",
   "nbconvert_exporter": "python",
   "pygments_lexer": "ipython3",
   "version": "3.12.4"
  }
 },
 "nbformat": 4,
 "nbformat_minor": 5
}
