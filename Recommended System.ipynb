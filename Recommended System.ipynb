{
 "cells": [
  {
   "cell_type": "code",
   "execution_count": 267,
   "id": "ef41fe7f-9cd2-43d3-896e-2f3802b8a8ec",
   "metadata": {},
   "outputs": [],
   "source": [
    "#Import the libraries\n",
    "import pandas as pd\n",
    "import numpy as np\n",
    "import seaborn as sns\n",
    "import scipy.stats as stat\n",
    "import matplotlib.pyplot as plt\n",
    "from nltk.stem.porter import PorterStemmer\n",
    "from sklearn.feature_extraction.text import CountVectorizer\n",
    "from sklearn.metrics.pairwise import cosine_similarity\n"
   ]
  },
  {
   "cell_type": "code",
   "execution_count": 269,
   "id": "b89cd254-44d8-469e-af7b-6002cc205d7a",
   "metadata": {},
   "outputs": [
    {
     "name": "stdout",
     "output_type": "stream",
     "text": [
      "Total missing Values in the train dataset: anime_id      0\n",
      "name          0\n",
      "genre        62\n",
      "type         25\n",
      "episodes      0\n",
      "rating      230\n",
      "members       0\n",
      "dtype: int64\n",
      "Total missing values in the train dataset after filling:\n",
      " anime_id    0\n",
      "name        0\n",
      "genre       0\n",
      "type        0\n",
      "episodes    0\n",
      "rating      0\n",
      "members     0\n",
      "dtype: int64\n",
      "No.of duplicate in train datasets: 0\n",
      "<class 'pandas.core.frame.DataFrame'>\n",
      "RangeIndex: 12294 entries, 0 to 12293\n",
      "Data columns (total 7 columns):\n",
      " #   Column    Non-Null Count  Dtype  \n",
      "---  ------    --------------  -----  \n",
      " 0   anime_id  12294 non-null  int64  \n",
      " 1   name      12294 non-null  object \n",
      " 2   genre     12294 non-null  object \n",
      " 3   type      12294 non-null  object \n",
      " 4   episodes  12294 non-null  object \n",
      " 5   rating    12294 non-null  float64\n",
      " 6   members   12294 non-null  int64  \n",
      "dtypes: float64(1), int64(2), object(4)\n",
      "memory usage: 672.5+ KB\n",
      "None\n"
     ]
    }
   ],
   "source": [
    "#Load the data\n",
    "rate_data=pd.read_csv(\"Downloads/Recommendation System (1)/Recommendation System/anime.csv\")\n",
    "#Exploratory Datasets\n",
    "print(\"Total missing Values in the train dataset:\",rate_data.isna().sum())\n",
    "#Handle the missing values in train dataset:\n",
    "for i in rate_data.select_dtypes(include=\"number\").columns:\n",
    "    rate_data=rate_data.fillna(value=rate_data[i].mean())\n",
    "print(\"Total missing values in the train dataset after filling:\\n\",rate_data.isna().sum())\n",
    "#find duplicates in  dataset\n",
    "print(\"No.of duplicate in train datasets:\",end=\" \")\n",
    "print(rate_data.duplicated().sum()) \n",
    "print(rate_data.info())"
   ]
  },
  {
   "cell_type": "code",
   "execution_count": 271,
   "id": "059e5667-b3a4-462f-81aa-693d5a24ecff",
   "metadata": {},
   "outputs": [
    {
     "name": "stdout",
     "output_type": "stream",
     "text": [
      "   anime_id                              name  rating\n",
      "0     32281                    Kimi no Na wa.    9.37\n",
      "1      5114  Fullmetal Alchemist: Brotherhood    9.26\n",
      "2     28977                          Gintama°    9.25\n",
      "3      9253                       Steins;Gate    9.17\n",
      "4      9969                     Gintama&#039;    9.16\n"
     ]
    }
   ],
   "source": [
    "\n",
    "rate_data1=rate_data.drop(columns=[\"episodes\",\"type\",\"genre\",\"members\"])\n",
    "print(rate_data1.head(5))\n",
    "#Data cleaning\n",
    "ps=PorterStemmer()\n",
    "def stem(text):\n",
    "    y=[]\n",
    "    for i in text.split():\n",
    "        y.append(ps.stem(i))\n",
    "    return \" \".join(y)\n",
    "    "
   ]
  },
  {
   "cell_type": "raw",
   "id": "906247a5-c4af-463e-a01b-c02dffafbf97",
   "metadata": {},
   "source": [
    "#iterate over rows\n",
    "for index,row in rate_data1.iterrows():\n",
    "    rate_data1.loc[index,\"name\"]=stem(row[\"name\"])\n",
    "\n",
    "print(rate_data1.head(3))"
   ]
  },
  {
   "cell_type": "code",
   "execution_count": 273,
   "id": "dd88c49d-3eea-4ac5-997a-d2a5e64f24ea",
   "metadata": {},
   "outputs": [
    {
     "name": "stdout",
     "output_type": "stream",
     "text": [
      "[[0 0 0 ... 0 0 0]\n",
      " [0 0 0 ... 0 0 0]\n",
      " [0 0 0 ... 0 0 0]\n",
      " ...\n",
      " [0 0 0 ... 0 0 0]\n",
      " [0 0 0 ... 0 0 0]\n",
      " [0 0 0 ... 0 0 0]]\n"
     ]
    }
   ],
   "source": [
    "#Model Building\n",
    "cv=CountVectorizer(max_features=5000,stop_words=\"english\")\n",
    "vectors=cv.fit_transform(rate_data1[\"name\"]).toarray()\n",
    "print(vectors)"
   ]
  },
  {
   "cell_type": "code",
   "execution_count": 275,
   "id": "972f1ff0-232d-4419-b029-52c14f6a2542",
   "metadata": {},
   "outputs": [
    {
     "name": "stdout",
     "output_type": "stream",
     "text": [
      "[0 0 0 ... 0 0 0]\n"
     ]
    }
   ],
   "source": [
    "print(vectors[0])"
   ]
  },
  {
   "cell_type": "code",
   "execution_count": 277,
   "id": "f8120591-5626-4d48-8c12-d593875591f5",
   "metadata": {},
   "outputs": [
    {
     "name": "stdout",
     "output_type": "stream",
     "text": [
      "[1. 0. 0. ... 0. 0. 0.]\n",
      "(12294, 12294)\n"
     ]
    }
   ],
   "source": [
    "#find cosine similarities score\n",
    "similarity=cosine_similarity(vectors)\n",
    "print(similarity[0])\n",
    "print(similarity.shape)\n"
   ]
  },
  {
   "cell_type": "code",
   "execution_count": 278,
   "id": "50b30759-9f2f-4968-ac70-f40f78bf327d",
   "metadata": {},
   "outputs": [],
   "source": [
    "def recommend(movie):\n",
    "    movie_list=rate_data1[rate_data1[\"name\"].str.contains(movie)]\n",
    "    if len(movie_list):\n",
    "        movie_idx=movie_list.index[0]\n",
    "        distance=similarity[movie_idx]\n",
    "        movies_list=sorted(list(enumerate(distance)),reverse=True, key=lambda x:x[1])[1:10]\n",
    "        print(\"Recommendations for {}:\\n\".format(movie_list.iloc[0][\"name\"]))\n",
    "        for i in movies_list:\n",
    "            print(rate_data1.iloc[i[0]][\"name\"])\n",
    "\n",
    "    else:\n",
    "        return \"No Movies found.Please check your input\"\n",
    "\n",
    "\n",
    "\n",
    "\n",
    "    "
   ]
  },
  {
   "cell_type": "code",
   "execution_count": 279,
   "id": "965f0d26-faa6-40f1-9640-4964fd90146d",
   "metadata": {},
   "outputs": [
    {
     "name": "stdin",
     "output_type": "stream",
     "text": [
      "Enter the movie name kimi\n"
     ]
    },
    {
     "data": {
      "text/plain": [
       "'No Movies found.Please check your input'"
      ]
     },
     "execution_count": 279,
     "metadata": {},
     "output_type": "execute_result"
    }
   ],
   "source": [
    "a=input(\"Enter the movie name\")\n",
    "recommend(a)\n"
   ]
  },
  {
   "cell_type": "code",
   "execution_count": null,
   "id": "52cb9e4b-b58a-4b49-97ce-38c9d23548d0",
   "metadata": {},
   "outputs": [],
   "source": []
  }
 ],
 "metadata": {
  "kernelspec": {
   "display_name": "Python 3 (ipykernel)",
   "language": "python",
   "name": "python3"
  },
  "language_info": {
   "codemirror_mode": {
    "name": "ipython",
    "version": 3
   },
   "file_extension": ".py",
   "mimetype": "text/x-python",
   "name": "python",
   "nbconvert_exporter": "python",
   "pygments_lexer": "ipython3",
   "version": "3.12.4"
  }
 },
 "nbformat": 4,
 "nbformat_minor": 5
}
