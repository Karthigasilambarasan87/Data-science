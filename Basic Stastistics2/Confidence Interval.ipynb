{
 "cells": [
  {
   "cell_type": "code",
   "execution_count": 19,
   "id": "7aeebd2e-1640-40be-a52f-5d70d143c21c",
   "metadata": {},
   "outputs": [
    {
     "name": "stdout",
     "output_type": "stream",
     "text": [
      "No.of samples: 10\n",
      "sample mean is: 1.236\n",
      "The sample standard deviation is: 0.2371216284244579\n",
      "Confidence Level 0.99 and Alpha Value 0.010000000000000009:\n",
      "The critical value: 3.2498355415921254\n",
      "Margin error: 0.24368710737847507\n",
      "Confidence Interval for given data: (0.9923128926215249, 1.479687107378475)\n"
     ]
    }
   ],
   "source": [
    "#Find confidence interval for sample standard deviation data with confidence level 99 perecnt\n",
    "import pandas as pd\n",
    "import numpy as np\n",
    "import scipy.stats as st\n",
    "population=[1.13, 1.55, 1.43, 0.92, 1.25, 1.36, 1.32, 0.85, 1.07, 1.48, 1.20, 1.33, 1.18, 1.22, 1.29]\n",
    "sample=[1.13, 1.55, 1.43, 0.92, 1.25, 1.36, 1.32, 0.85, 1.07, 1.48]\n",
    "n=len(sample)\n",
    "print(\"No.of samples:\",n)\n",
    "sample_mean=np.mean(sample)\n",
    "print(\"sample mean is:\",sample_mean)\n",
    "sample_standard=np.std(sample,ddof=1)\n",
    "print(\"The sample standard deviation is:\",sample_standard)\n",
    "#set confidence level 99\n",
    "confidence_level=0.99\n",
    "alpha=1-confidence_level\n",
    "print(\"Confidence Level {} and Alpha Value {}:\".format(confidence_level,alpha))\n",
    "#calculate t critical value\n",
    "a=confidence_level+(alpha/2)\n",
    "t_value=st.t.ppf(a,n-1)\n",
    "print(\"The critical value:\",t_value)\n",
    "#calculate confidence interval. CI=sample mean +or- (t_value*(std sample/sqrt(n)))\n",
    "margin_errort=t_value*(sample_standard/np.sqrt(n))\n",
    "print(\"Margin error:\",margin_errort)\n",
    "lower_tinterval=sample_mean-margin_errort\n",
    "upper_tinterval=sample_mean+margin_errort\n",
    "confidence_tinterval=(lower_tinterval,upper_tinterval)\n",
    "print(\"Confidence Interval for given data:\",confidence_tinterval)"
   ]
  },
  {
   "cell_type": "code",
   "execution_count": 17,
   "id": "62c54826-f279-43e2-9c09-9f083214bab3",
   "metadata": {},
   "outputs": [
    {
     "name": "stdout",
     "output_type": "stream",
     "text": [
      "No.of samples: 15\n",
      "Sample Mean is: 1.2386666666666666\n",
      "The population standard deviation is: 0.19316412956959936\n",
      "Confidence Level 0.99 and Alpha Value 0.010000000000000009:\n",
      "The critical value: 2.5758293035489004\n",
      "Margin error: 0.1284688780877717\n",
      "Confidence Interval for given data: (1.110197788578895, 1.3671355447544382)\n"
     ]
    }
   ],
   "source": [
    "#Find confidence interval for population standard deviation data(0.2)\n",
    "import pandas as pd\n",
    "import numpy as np\n",
    "import scipy.stats as st\n",
    "population=[1.13, 1.55, 1.43, 0.92, 1.25, 1.36, 1.32, 0.85, 1.07, 1.48, 1.20, 1.33, 1.18, 1.22, 1.29]\n",
    "n=len(population)\n",
    "print(\"No.of samples:\",n)\n",
    "sample_mean=np.mean(population)\n",
    "print(\"Sample Mean is:\",sample_mean)\n",
    "population_standard=np.std(population,ddof=1)\n",
    "print(\"The population standard deviation is:\",population_standard)\n",
    "#set confidence level 99\n",
    "confidence_level=0.99\n",
    "alpha=1-confidence_level\n",
    "print(\"Confidence Level {} and Alpha Value {}:\".format(confidence_level,alpha))\n",
    "#calculate z critical value\n",
    "z=st.norm.ppf(1-alpha/2)\n",
    "print(\"The critical value:\",z)\n",
    "#calculate confidence interval. CI=sample mean +or- (z*(std/sqrt(n)))\n",
    "margin_error=z*(population_standard/np.sqrt(n))\n",
    "print(\"Margin error:\",margin_error)\n",
    "lower_interval=sample_mean-margin_error\n",
    "upper_interval=sample_mean+margin_error\n",
    "confidence_interval=(lower_interval,upper_interval)\n",
    "print(\"Confidence Interval for given data:\",confidence_interval)\n"
   ]
  },
  {
   "cell_type": "code",
   "execution_count": null,
   "id": "ffe8720f-eb4e-424a-a08d-ba015973ae48",
   "metadata": {},
   "outputs": [],
   "source": []
  }
 ],
 "metadata": {
  "kernelspec": {
   "display_name": "Python 3 (ipykernel)",
   "language": "python",
   "name": "python3"
  },
  "language_info": {
   "codemirror_mode": {
    "name": "ipython",
    "version": 3
   },
   "file_extension": ".py",
   "mimetype": "text/x-python",
   "name": "python",
   "nbconvert_exporter": "python",
   "pygments_lexer": "ipython3",
   "version": "3.12.4"
  }
 },
 "nbformat": 4,
 "nbformat_minor": 5
}
