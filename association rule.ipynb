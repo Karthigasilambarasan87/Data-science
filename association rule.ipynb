{
 "cells": [
  {
   "cell_type": "code",
   "execution_count": 347,
   "id": "2c5fc7fd-94af-4ce2-905a-2a095443f4fd",
   "metadata": {},
   "outputs": [],
   "source": [
    "import pandas as pd\n",
    "import numpy as np\n",
    "from mlxtend.frequent_patterns import apriori\n",
    "from mlxtend.frequent_patterns import association_rules\n",
    "from mlxtend.preprocessing import TransactionEncoder"
   ]
  },
  {
   "cell_type": "code",
   "execution_count": 349,
   "id": "1ce86e99-f660-41c0-a487-88dbdbc15aa7",
   "metadata": {},
   "outputs": [
    {
     "name": "stderr",
     "output_type": "stream",
     "text": [
      "C:\\Users\\rskar\\AppData\\Local\\anaconda3\\Lib\\site-packages\\openpyxl\\packaging\\core.py:99: DeprecationWarning: datetime.datetime.utcnow() is deprecated and scheduled for removal in a future version. Use timezone-aware objects to represent datetimes in UTC: datetime.datetime.now(datetime.UTC).\n",
      "  now = datetime.datetime.utcnow()\n",
      "C:\\Users\\rskar\\AppData\\Local\\anaconda3\\Lib\\site-packages\\openpyxl\\packaging\\core.py:99: DeprecationWarning: datetime.datetime.utcnow() is deprecated and scheduled for removal in a future version. Use timezone-aware objects to represent datetimes in UTC: datetime.datetime.now(datetime.UTC).\n",
      "  now = datetime.datetime.utcnow()\n"
     ]
    }
   ],
   "source": [
    "online=pd.read_excel(\"Downloads/Association(1)/Association Rules/Online retail.xlsx\",header=None)"
   ]
  },
  {
   "cell_type": "code",
   "execution_count": 351,
   "id": "e5ee3178-54db-4e3f-b68e-268a0ccbc961",
   "metadata": {},
   "outputs": [
    {
     "name": "stdout",
     "output_type": "stream",
     "text": [
      "The missing values in the datasets:\n",
      "120657\n",
      "Total missing values in the train dataset after filling: 0\n"
     ]
    }
   ],
   "source": [
    "# Find missing values \n",
    "print(\"The missing values in the datasets:\")\n",
    "print(online.isna().sum().sum())\n",
    "#Handle the missing values in train dataset\n",
    "online=online.fillna(0)\n",
    "print(\"Total missing values in the train dataset after filling:\",online.isna().sum().sum())\n"
   ]
  },
  {
   "cell_type": "code",
   "execution_count": 353,
   "id": "80e629d4-34fe-4722-a932-534b343d3222",
   "metadata": {},
   "outputs": [],
   "source": [
    "records=[]\n",
    "for i in range(0,7501):\n",
    "    records.append([str(online.values[i,j])for j in range(0,20)])\n"
   ]
  },
  {
   "cell_type": "code",
   "execution_count": 357,
   "id": "0524cb4e-6466-49a0-9ba1-7f6574535ff2",
   "metadata": {},
   "outputs": [
    {
     "name": "stdout",
     "output_type": "stream",
     "text": [
      "    asparagus      0  almonds  antioxydant juice  asparagus  avocado  \\\n",
      "0       False  False     True               True      False     True   \n",
      "1       False   True    False              False      False    False   \n",
      "2       False   True    False              False      False    False   \n",
      "3       False   True    False              False      False     True   \n",
      "4       False   True    False              False      False    False   \n",
      "\n",
      "   babies food  bacon  barbecue sauce  black tea  ...  turkey  vegetables mix  \\\n",
      "0        False  False           False      False  ...   False            True   \n",
      "1        False  False           False      False  ...   False           False   \n",
      "2        False  False           False      False  ...   False           False   \n",
      "3        False  False           False      False  ...    True           False   \n",
      "4        False  False           False      False  ...   False           False   \n",
      "\n",
      "   water spray  white wine  whole weat flour  whole wheat pasta  \\\n",
      "0        False       False              True              False   \n",
      "1        False       False             False              False   \n",
      "2        False       False             False              False   \n",
      "3        False       False             False              False   \n",
      "4        False       False             False              False   \n",
      "\n",
      "   whole wheat rice   yams  yogurt cake  zucchini  \n",
      "0             False   True        False     False  \n",
      "1             False  False        False     False  \n",
      "2             False  False        False     False  \n",
      "3             False  False        False     False  \n",
      "4              True  False        False     False  \n",
      "\n",
      "[5 rows x 121 columns]\n"
     ]
    }
   ],
   "source": [
    "trans=TransactionEncoder()\n",
    "trans1=trans.fit(records).transform(records)\n",
    "online_trans=pd.DataFrame(trans1,columns=trans.columns_)\n",
    "#print(online_trans)\n",
    "print(online_trans.head(5))\n",
    "online_trans=online_trans.drop(columns=\"0\")"
   ]
  },
  {
   "cell_type": "code",
   "execution_count": 359,
   "id": "d9e02c3d-5300-468b-bf2b-6df9cb0a61d5",
   "metadata": {},
   "outputs": [
    {
     "name": "stdout",
     "output_type": "stream",
     "text": [
      "The support values for frequent items in the online retail:\n",
      "       support                                         itemsets\n",
      "0     0.020397                                        (almonds)\n",
      "1     0.008932                              (antioxydant juice)\n",
      "2     0.004666                                      (asparagus)\n",
      "3     0.033329                                        (avocado)\n",
      "4     0.004533                                    (babies food)\n",
      "...        ...                                              ...\n",
      "2430  0.002666         (spaghetti, mineral water, turkey, milk)\n",
      "2431  0.002800  (spaghetti, mineral water, olive oil, pancakes)\n",
      "2432  0.002266    (spaghetti, mineral water, shrimp, olive oil)\n",
      "2433  0.002266  (spaghetti, mineral water, tomatoes, olive oil)\n",
      "2434  0.002266       (spaghetti, mineral water, soup, pancakes)\n",
      "\n",
      "[2435 rows x 2 columns]\n"
     ]
    }
   ],
   "source": [
    "#find frequent items\n",
    "frequent_item=apriori(online_trans,min_support=0.002,use_colnames=True)\n",
    "print(\"The support values for frequent items in the online retail:\")\n",
    "print(frequent_item)"
   ]
  },
  {
   "cell_type": "code",
   "execution_count": 361,
   "id": "e4725b20-3622-48bc-823a-1310eaf5fc98",
   "metadata": {},
   "outputs": [
    {
     "name": "stdout",
     "output_type": "stream",
     "text": [
      "                                  antecedents      consequents  \\\n",
      "0               (mushroom cream sauce, pasta)       (escalope)   \n",
      "1                    (spaghetti, nonfat milk)  (mineral water)   \n",
      "2                          (turkey, red wine)  (mineral water)   \n",
      "3   (chocolate, frozen vegetables, olive oil)  (mineral water)   \n",
      "4              (spaghetti, cooking oil, eggs)  (mineral water)   \n",
      "5          (spaghetti, cooking oil, pancakes)  (mineral water)   \n",
      "6                     (olive oil, milk, eggs)  (mineral water)   \n",
      "7    (ground beef, frozen vegetables, shrimp)      (spaghetti)   \n",
      "8             (frozen vegetables, soup, milk)  (mineral water)   \n",
      "9    (olive oil, frozen vegetables, tomatoes)      (spaghetti)   \n",
      "10                (spaghetti, pancakes, soup)  (mineral water)   \n",
      "\n",
      "    antecedent support  consequent support   support  confidence       lift  \\\n",
      "0             0.002666            0.079323  0.002533    0.950000  11.976387   \n",
      "1             0.003333            0.238368  0.002400    0.720000   3.020537   \n",
      "2             0.002933            0.238368  0.002133    0.727273   3.051047   \n",
      "3             0.003999            0.238368  0.002800    0.700000   2.936633   \n",
      "4             0.004133            0.238368  0.002933    0.709677   2.977232   \n",
      "5             0.002933            0.238368  0.002133    0.727273   3.051047   \n",
      "6             0.003733            0.238368  0.002666    0.714286   2.996564   \n",
      "7             0.003200            0.174110  0.002400    0.750000   4.307619   \n",
      "8             0.003999            0.238368  0.003066    0.766667   3.216312   \n",
      "9             0.002533            0.174110  0.002133    0.842105   4.836624   \n",
      "10            0.002933            0.238368  0.002266    0.772727   3.241738   \n",
      "\n",
      "    leverage  conviction  zhangs_metric  \n",
      "0   0.002321   18.413545       0.918953  \n",
      "1   0.001605    2.720114       0.671170  \n",
      "2   0.001434    2.792650       0.674221  \n",
      "3   0.001846    2.538773       0.662122  \n",
      "4   0.001948    2.623398       0.666874  \n",
      "5   0.001434    2.792650       0.674221  \n",
      "6   0.001777    2.665711       0.668781  \n",
      "7   0.001843    3.303560       0.770318  \n",
      "8   0.002113    3.264136       0.691852  \n",
      "9   0.001692    5.230636       0.795259  \n",
      "10  0.001567    3.351180       0.693558  \n",
      "Index(['antecedents', 'consequents', 'antecedent support',\n",
      "       'consequent support', 'support', 'confidence', 'lift', 'leverage',\n",
      "       'conviction', 'zhangs_metric'],\n",
      "      dtype='object')\n"
     ]
    }
   ],
   "source": [
    "#Association rules for mining\n",
    "res=association_rules(frequent_item,metric=\"confidence\",min_threshold=0.7)\n",
    "print(res)\n",
    "print(res.columns)"
   ]
  },
  {
   "cell_type": "code",
   "execution_count": 363,
   "id": "a837bc38-2747-402f-9fc3-cac6be0b0697",
   "metadata": {},
   "outputs": [
    {
     "name": "stdout",
     "output_type": "stream",
     "text": [
      "                                  antecedents      consequents   support  \\\n",
      "0               (mushroom cream sauce, pasta)       (escalope)  0.002533   \n",
      "1                    (spaghetti, nonfat milk)  (mineral water)  0.002400   \n",
      "2                          (turkey, red wine)  (mineral water)  0.002133   \n",
      "3   (chocolate, frozen vegetables, olive oil)  (mineral water)  0.002800   \n",
      "4              (spaghetti, cooking oil, eggs)  (mineral water)  0.002933   \n",
      "5          (spaghetti, cooking oil, pancakes)  (mineral water)  0.002133   \n",
      "6                     (olive oil, milk, eggs)  (mineral water)  0.002666   \n",
      "7    (ground beef, frozen vegetables, shrimp)      (spaghetti)  0.002400   \n",
      "8             (frozen vegetables, soup, milk)  (mineral water)  0.003066   \n",
      "9    (olive oil, frozen vegetables, tomatoes)      (spaghetti)  0.002133   \n",
      "10                (spaghetti, pancakes, soup)  (mineral water)  0.002266   \n",
      "\n",
      "    confidence  \n",
      "0     0.950000  \n",
      "1     0.720000  \n",
      "2     0.727273  \n",
      "3     0.700000  \n",
      "4     0.709677  \n",
      "5     0.727273  \n",
      "6     0.714286  \n",
      "7     0.750000  \n",
      "8     0.766667  \n",
      "9     0.842105  \n",
      "10    0.772727  \n"
     ]
    }
   ],
   "source": [
    "res1=res[['antecedents','consequents','support', 'confidence']]\n",
    "print(res1)"
   ]
  },
  {
   "cell_type": "code",
   "execution_count": 365,
   "id": "4f233b5f-c0d7-43db-9a45-63c290ccadbd",
   "metadata": {},
   "outputs": [
    {
     "name": "stdout",
     "output_type": "stream",
     "text": [
      "                                 antecedents      consequents   support  \\\n",
      "0              (mushroom cream sauce, pasta)       (escalope)  0.002533   \n",
      "8            (frozen vegetables, soup, milk)  (mineral water)  0.003066   \n",
      "9   (olive oil, frozen vegetables, tomatoes)      (spaghetti)  0.002133   \n",
      "10               (spaghetti, pancakes, soup)  (mineral water)  0.002266   \n",
      "\n",
      "    confidence  \n",
      "0     0.950000  \n",
      "8     0.766667  \n",
      "9     0.842105  \n",
      "10    0.772727  \n"
     ]
    }
   ],
   "source": [
    "#set the confidence level\n",
    "res2=res1[res1[\"confidence\"]>=0.75]\n",
    "print(res2)"
   ]
  },
  {
   "cell_type": "code",
   "execution_count": null,
   "id": "5d506c86-7edb-4e86-a899-e007e36dd0d4",
   "metadata": {},
   "outputs": [],
   "source": []
  }
 ],
 "metadata": {
  "kernelspec": {
   "display_name": "Python 3 (ipykernel)",
   "language": "python",
   "name": "python3"
  },
  "language_info": {
   "codemirror_mode": {
    "name": "ipython",
    "version": 3
   },
   "file_extension": ".py",
   "mimetype": "text/x-python",
   "name": "python",
   "nbconvert_exporter": "python",
   "pygments_lexer": "ipython3",
   "version": "3.12.4"
  }
 },
 "nbformat": 4,
 "nbformat_minor": 5
}
