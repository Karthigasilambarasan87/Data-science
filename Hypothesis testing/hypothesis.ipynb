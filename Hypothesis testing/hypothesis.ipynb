{
 "cells": [
  {
   "cell_type": "code",
   "execution_count": 15,
   "id": "9805b803-528f-4785-bbd9-361f00ad3bf1",
   "metadata": {},
   "outputs": [
    {
     "name": "stdout",
     "output_type": "stream",
     "text": [
      "No.of.samples: 25\n",
      "Sample mean: 4000\n",
      "Sample average: 3050\n",
      "The standard deviations is: 125\n",
      "The critical value: 1.959963984540054\n",
      "Margin error: 48.99909961350135\n",
      "Confidence Interval for given data: (3951.000900386499, 4048.999099613501)\n",
      "The weekly cost of restaurant 4000 is less than or equal to upper bound interval 4048.999099613501\n",
      "So, Accept the null hypothesis\n"
     ]
    }
   ],
   "source": [
    "#z test\n",
    "#h0=the weekly operating costs are higher than the model suggests.\n",
    "import pandas as pd\n",
    "import numpy as np\n",
    "import scipy.stats as st\n",
    "#ho=null hypothesis mean=4000\n",
    "#h1-alternate hypothesis mean>4000\n",
    "n=25\n",
    "sample_average=3050\n",
    "sample_mean=1000+(5*600)\n",
    "total_standard_deviation=5*25\n",
    "print(\"No.of.samples:\",n)\n",
    "print(\"Sample mean:\",sample_mean)\n",
    "print(\"Sample average:\",sample_average)\n",
    "print(\"The standard deviations is:\",total_standard_deviation)\n",
    "#z-test:\n",
    "alpha=0.05\n",
    "#calculate critical value\n",
    "z=st.norm.ppf(1-alpha/2)\n",
    "print(\"The critical value:\",z)\n",
    "#calculate confidence interval. CI=sample mean +or- (z*(std/sqrt(n)))\n",
    "margin_error=z*(total_standard_deviation/np.sqrt(n))\n",
    "print(\"Margin error:\",margin_error)\n",
    "lower_interval=sample_mean-margin_error\n",
    "upper_interval=sample_mean+margin_error\n",
    "confidence_interval=(lower_interval,upper_interval)\n",
    "print(\"Confidence Interval for given data:\",confidence_interval)\n",
    "#check confidence interval\n",
    "if sample_mean<=upper_interval:\n",
    "    print(\"The weekly cost of restaurant {} is less than or equal to upper bound interval {}\".format(sample_mean,upper_interval))\n",
    "    print(\"So, Accept the null hypothesis\")\n",
    "else:\n",
    "    print(\"The weekly cost of restaurant {} is greater than or equal to upper bound interval {}\".format(sample_mean,upper_interval))\n",
    "    print(\"So, Reject the null hypothesis\")   \n",
    "#p value\n",
    "p=st.norm.cdf(z)\n",
    "print(\"The p value is:\",p)\n",
    "if p>=alpha:\n",
    "    print(\"P value {} is greater than or equal to alpha {}\".format(p,alpha))\n",
    "    print(\"So, Accept the null hypothesis\")\n",
    "else:\n",
    "    print(\"The weekly cost of restaurant {} is greater than or e {}\".format(p,alpha))\n",
    "    print(\"So, Reject the null hypothesis\")  \n"
   ]
  },
  {
   "cell_type": "code",
   "execution_count": 21,
   "id": "ffb4310d-789a-441c-98c1-822df684aa16",
   "metadata": {},
   "outputs": [
    {
     "data": {
      "text/plain": [
       "0.975"
      ]
     },
     "execution_count": 21,
     "metadata": {},
     "output_type": "execute_result"
    }
   ],
   "source": [
    "st.norm.cdf(z)\n"
   ]
  },
  {
   "cell_type": "code",
   "execution_count": null,
   "id": "7ef35321-48b5-4d61-9b22-1db08e3d7454",
   "metadata": {},
   "outputs": [],
   "source": []
  }
 ],
 "metadata": {
  "kernelspec": {
   "display_name": "Python 3 (ipykernel)",
   "language": "python",
   "name": "python3"
  },
  "language_info": {
   "codemirror_mode": {
    "name": "ipython",
    "version": 3
   },
   "file_extension": ".py",
   "mimetype": "text/x-python",
   "name": "python",
   "nbconvert_exporter": "python",
   "pygments_lexer": "ipython3",
   "version": "3.12.4"
  }
 },
 "nbformat": 4,
 "nbformat_minor": 5
}
